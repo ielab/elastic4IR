{
 "cells": [
  {
   "cell_type": "markdown",
   "metadata": {},
   "source": [
    "# Elasticsearch TREC Run\n",
    "\n",
    "_Using Elasticsearch and the Python api_\n",
    "\n",
    "TRECEVAL is a program to evaluate TREC results using the standard, NIST evaluation procedures. The TREC file format is the standard way to represent a run in information retrieval.\n",
    "\n",
    "## What you will need\n",
    "\n",
    " - Python 3\n",
    " - ir-kit (http://ir-kit.readthedocs.io/en/latest/)\n",
    " \n",
    "This example uses an index based on media releases by a gallery, available at: https://data.qld.gov.au/dataset/qagoma-media-releases/resource/a1e4dffa-edb1-4e6d-a4a0-353aca79e9a3.\n",
    "\n",
    "## Getting Started\n",
    "\n",
    "In this example, we will use the Elaticsearch Python api. First, we will import and set-up all of the required Python modules and variables we will use later on. Additionally, if you wish to use curl instead of the Python api, the complimentary command line function has been commented above each api request."
   ]
  },
  {
   "cell_type": "code",
   "execution_count": 1,
   "metadata": {},
   "outputs": [],
   "source": [
    "from elasticsearch import Elasticsearch\n",
    "from irkit.trec import run\n",
    "import pandas as pd\n",
    "es = Elasticsearch(urls=['localhost'], port=9200)"
   ]
  },
  {
   "cell_type": "markdown",
   "metadata": {},
   "source": [
    "## TREC File Format\n",
    "\n",
    "The TREC file format is described in much detail here: http://faculty.washington.edu/levow/courses/ling573_SPR2011/hw/trec_eval_desc.htm.\n",
    "\n",
    "The results file has the format: query_id, iter, docno, rank, sim, run_id  delimited by spaces.  Query id is the query number (e.g. 136.6 or 1894, depending on the evaluation year).  The iter constant, 0, is required but ignored by trec_eval.  The Document numbers are string values like FR940104-0-00001 (found between <DOCNO> tags in the documents).  The Similarity (sim) is a float value.  Rank is an integer from 0 to 1000, which is required but ignored by the program.  Runid is a string which gets printed out with the output.  An example of a line from the results file:\n",
    " \n",
    "> 351   0  FR940104-0-00001  1   42.38   run-name"
   ]
  },
  {
   "cell_type": "markdown",
   "metadata": {},
   "source": [
    "## Elasticsearch `hits` to TREC file\n",
    "\n",
    "We will use Elasticsearch to retrieve some documents and use the ir-kit `run` module to produce a properly formatted TREC run file."
   ]
  },
  {
   "cell_type": "code",
   "execution_count": 2,
   "metadata": {},
   "outputs": [
    {
     "name": "stdout",
     "output_type": "stream",
     "text": [
      "0\tQ0\tAV19Sgi4jk6MoKTLfifp\t1\t1.0\texample\n",
      "0\tQ0\tAV19Sgi4jk6MoKTLfifq\t2\t1.0\texample\n",
      "0\tQ0\tAV19Sgi4jk6MoKTLfifu\t3\t1.0\texample\n",
      "0\tQ0\tAV19Sgi4jk6MoKTLfifv\t4\t1.0\texample\n",
      "0\tQ0\tAV19Sgi4jk6MoKTLfif5\t5\t1.0\texample\n",
      "0\tQ0\tAV19Sgi4jk6MoKTLfigP\t6\t1.0\texample\n",
      "0\tQ0\tAV19Sgi4jk6MoKTLfigQ\t7\t1.0\texample\n",
      "0\tQ0\tAV19Sgi4jk6MoKTLfigc\t8\t1.0\texample\n",
      "0\tQ0\tAV19Sgi4jk6MoKTLfige\t9\t1.0\texample\n",
      "0\tQ0\tAV19Sgi4jk6MoKTLfigo\t10\t1.0\texample\n"
     ]
    }
   ],
   "source": [
    "query = \\\n",
    "{\n",
    "    'query': {\n",
    "        'match_all': {}\n",
    "    }\n",
    "}\n",
    "\n",
    "# curl -X GET localhost:9200/goma/_search -H 'Content-Type: application/json' -d @query.json\n",
    "res = es.search(index='goma', body=query)\n",
    "\n",
    "hits = []\n",
    "for rank, hit in enumerate(res['hits']['hits'], 1):\n",
    "    hits.append(run.TrecEvalRun(rank=rank, doc_id=hit['_id'], q=0, score=hit['_score'],\n",
    "                                run_id='example', topic=0))\n",
    "\n",
    "print(run.TrecEvalRuns(hits).dumps())"
   ]
  },
  {
   "cell_type": "markdown",
   "metadata": {},
   "source": [
    "More often than not, however, we have more than one topic (multiple queries)."
   ]
  },
  {
   "cell_type": "code",
   "execution_count": 3,
   "metadata": {},
   "outputs": [
    {
     "name": "stdout",
     "output_type": "stream",
     "text": [
      "0\tQ0\tAV19Sgi4jk6MoKTLfifp\t1\t1.0\texample\n",
      "0\tQ0\tAV19Sgi4jk6MoKTLfifq\t2\t1.0\texample\n",
      "0\tQ0\tAV19Sgi4jk6MoKTLfifu\t3\t1.0\texample\n",
      "0\tQ0\tAV19Sgi4jk6MoKTLfifv\t4\t1.0\texample\n",
      "0\tQ0\tAV19Sgi4jk6MoKTLfif5\t5\t1.0\texample\n",
      "0\tQ0\tAV19Sgi4jk6MoKTLfigP\t6\t1.0\texample\n",
      "0\tQ0\tAV19Sgi4jk6MoKTLfigQ\t7\t1.0\texample\n",
      "0\tQ0\tAV19Sgi4jk6MoKTLfigc\t8\t1.0\texample\n",
      "0\tQ0\tAV19Sgi4jk6MoKTLfige\t9\t1.0\texample\n",
      "0\tQ0\tAV19Sgi4jk6MoKTLfigo\t10\t1.0\texample\n",
      "1\tQ0\tAV19Sgi4jk6MoKTLfifp\t1\t1.0\texample\n",
      "1\tQ0\tAV19Sgi4jk6MoKTLfifq\t2\t1.0\texample\n",
      "1\tQ0\tAV19Sgi4jk6MoKTLfifu\t3\t1.0\texample\n",
      "1\tQ0\tAV19Sgi4jk6MoKTLfifv\t4\t1.0\texample\n",
      "1\tQ0\tAV19Sgi4jk6MoKTLfif5\t5\t1.0\texample\n",
      "1\tQ0\tAV19Sgi4jk6MoKTLfigP\t6\t1.0\texample\n",
      "1\tQ0\tAV19Sgi4jk6MoKTLfigQ\t7\t1.0\texample\n",
      "1\tQ0\tAV19Sgi4jk6MoKTLfigc\t8\t1.0\texample\n",
      "1\tQ0\tAV19Sgi4jk6MoKTLfige\t9\t1.0\texample\n",
      "1\tQ0\tAV19Sgi4jk6MoKTLfigo\t10\t1.0\texample\n",
      "2\tQ0\tAV19Sgi4jk6MoKTLfifp\t1\t1.0\texample\n",
      "2\tQ0\tAV19Sgi4jk6MoKTLfifq\t2\t1.0\texample\n",
      "2\tQ0\tAV19Sgi4jk6MoKTLfifu\t3\t1.0\texample\n",
      "2\tQ0\tAV19Sgi4jk6MoKTLfifv\t4\t1.0\texample\n",
      "2\tQ0\tAV19Sgi4jk6MoKTLfif5\t5\t1.0\texample\n",
      "2\tQ0\tAV19Sgi4jk6MoKTLfigP\t6\t1.0\texample\n",
      "2\tQ0\tAV19Sgi4jk6MoKTLfigQ\t7\t1.0\texample\n",
      "2\tQ0\tAV19Sgi4jk6MoKTLfigc\t8\t1.0\texample\n",
      "2\tQ0\tAV19Sgi4jk6MoKTLfige\t9\t1.0\texample\n",
      "2\tQ0\tAV19Sgi4jk6MoKTLfigo\t10\t1.0\texample\n"
     ]
    }
   ],
   "source": [
    "keywords = ['art', 'gallery', 'australia']\n",
    "query_template = \\\n",
    "{\n",
    "    'query': {\n",
    "        'match': {\n",
    "            'description': ''\n",
    "        }\n",
    "    }\n",
    "}\n",
    "hits = []\n",
    "for topic, keyword in enumerate(keywords):\n",
    "    query_template['query']['match']['description'] = keyword\n",
    "    \n",
    "    res = es.search(index='goma', body=query)\n",
    "    \n",
    "    for rank, hit in enumerate(res['hits']['hits'], 1):\n",
    "        hits.append(run.TrecEvalRun(rank=rank, doc_id=hit['_id'], q=0, score=hit['_score'],\n",
    "                                    run_id='example', topic=topic))\n",
    "\n",
    "print(run.TrecEvalRuns(hits).dumps())"
   ]
  }
 ],
 "metadata": {
  "kernelspec": {
   "display_name": "Python 3",
   "language": "python",
   "name": "python3"
  },
  "language_info": {
   "codemirror_mode": {
    "name": "ipython",
    "version": 3
   },
   "file_extension": ".py",
   "mimetype": "text/x-python",
   "name": "python",
   "nbconvert_exporter": "python",
   "pygments_lexer": "ipython3",
   "version": "3.6.1"
  }
 },
 "nbformat": 4,
 "nbformat_minor": 2
}
